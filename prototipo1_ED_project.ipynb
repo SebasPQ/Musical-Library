{
  "nbformat": 4,
  "nbformat_minor": 0,
  "metadata": {
    "colab": {
      "name": "prototipo1_ED_project.ipynb",
      "provenance": [],
      "collapsed_sections": [
        "nV8p6TA5335K",
        "c_gCfgxtVplI",
        "5FjBGZ3uiDpq",
        "H47ewXMdQVNz",
        "B2mvucrl4KtO",
        "zZNt-rSmsLnK",
        "AgLcuphibOEt",
        "UVaKtZAbbFqg",
        "I6Eqt3_Fa7PA"
      ],
      "toc_visible": true,
      "include_colab_link": true
    },
    "kernelspec": {
      "name": "python3",
      "display_name": "Python 3"
    }
  },
  "cells": [
    {
      "cell_type": "markdown",
      "metadata": {
        "id": "view-in-github",
        "colab_type": "text"
      },
      "source": [
        "<a href=\"https://colab.research.google.com/github/SebasPQ/Musical-Library/blob/master/prototipo1_ED_project.ipynb\" target=\"_parent\"><img src=\"https://colab.research.google.com/assets/colab-badge.svg\" alt=\"Open In Colab\"/></a>"
      ]
    },
    {
      "cell_type": "markdown",
      "metadata": {
        "id": "nV8p6TA5335K"
      },
      "source": [
        "# Implementación de lista doblemente enlazada"
      ]
    },
    {
      "cell_type": "markdown",
      "metadata": {
        "id": "c_gCfgxtVplI"
      },
      "source": [
        "## Funciones"
      ]
    },
    {
      "cell_type": "code",
      "metadata": {
        "id": "TQ4DACG_1bfY"
      },
      "source": [
        "def insert_in_emptylist(self, data):\n",
        "        if self.start_node is None:\n",
        "            new_node = Node(data)\n",
        "            self.start_node = new_node\n",
        "            self.end_node = new_node\n",
        "        else:\n",
        "            print(\"list is not empty\")"
      ],
      "execution_count": 4,
      "outputs": []
    },
    {
      "cell_type": "code",
      "metadata": {
        "id": "acleMVbp1j6A"
      },
      "source": [
        "def insert_at_start(self, data):\n",
        "        if self.start_node is None:\n",
        "            new_node = Node(data)\n",
        "            self.start_node = new_node\n",
        "            self.end_node = new_node\n",
        "            print(\"node inserted\")\n",
        "            return\n",
        "        new_node = Node(data)\n",
        "        new_node.nref = self.start_node\n",
        "        self.start_node.pref = new_node\n",
        "        self.start_node = new_node"
      ],
      "execution_count": 5,
      "outputs": []
    },
    {
      "cell_type": "code",
      "metadata": {
        "id": "byN5rpBR1nXJ"
      },
      "source": [
        "def insert_at_end(self, data):\n",
        "        if self.start_node is None:\n",
        "            new_node = Node(data)\n",
        "            self.start_node = new_node\n",
        "            self.end_node = new_node\n",
        "            return\n",
        "        new_node = Node(data)\n",
        "        new_node.pref = self.end_node\n",
        "        self.end_node.nref = new_node\n",
        "        self.end_node = new_node"
      ],
      "execution_count": 6,
      "outputs": []
    },
    {
      "cell_type": "code",
      "metadata": {
        "id": "Tz8MH_0S1rFU"
      },
      "source": [
        "def insert_after_item(self, x, data):\n",
        "        if self.start_node is None:\n",
        "            print(\"List is empty\")\n",
        "            return\n",
        "        else:\n",
        "            n = self.start_node\n",
        "            while n is not None:\n",
        "                if n.item == x:\n",
        "                    break\n",
        "                n = n.nref\n",
        "            if n is None:\n",
        "                print(\"item not in the list\")\n",
        "            else:\n",
        "                new_node = Node(data)\n",
        "                new_node.pref = n\n",
        "                new_node.nref = n.nref\n",
        "                if n.nref is not None:\n",
        "                    n.nref.prev = new_node\n",
        "                n.nref = new_node"
      ],
      "execution_count": 7,
      "outputs": []
    },
    {
      "cell_type": "code",
      "metadata": {
        "id": "5tdCjOc_10S7"
      },
      "source": [
        "def insert_before_item(self, x, data):\n",
        "        if self.start_node is None:\n",
        "            print(\"List is empty\")\n",
        "            return\n",
        "        else:\n",
        "            n = self.start_node\n",
        "            while n is not None:\n",
        "                if n.item == x:\n",
        "                    break\n",
        "                n = n.nref\n",
        "            if n is None:\n",
        "                print(\"item not in the list\")\n",
        "            else:\n",
        "                new_node = Node(data)\n",
        "                new_node.nref = n\n",
        "                new_node.pref = n.pref\n",
        "                if n.pref is not None:\n",
        "                    n.pref.nref = new_node\n",
        "                n.pref = new_node"
      ],
      "execution_count": 8,
      "outputs": []
    },
    {
      "cell_type": "code",
      "metadata": {
        "id": "ADZNm1mz2BL-"
      },
      "source": [
        "def delete_element_by_value(self, x):\n",
        "\n",
        "        if self.start_node == None:\n",
        "            print(\"The list has no element to delete\")\n",
        "            return\n",
        "\n",
        "        aux = self.start_node.nref\n",
        "\n",
        "        if self.start_node == x:\n",
        "            aux = self.start_node\n",
        "            self.start_node = self.start_node.nref\n",
        "            self.start_node.pref = None\n",
        "            aux.nref = None\n",
        "            return\n",
        "        elif self.end_node == x:\n",
        "            aux = self.end_node\n",
        "            self.end_node = self.end_node.pref\n",
        "            self.end_node.nref = None\n",
        "            aux.pref = None\n",
        "            return\n",
        "        else:\n",
        "            while aux is not None:\n",
        "                if aux.item == x:\n",
        "                    aux.nref.pref = aux.pref\n",
        "                    aux.pref.nref = aux.nref\n",
        "                    aux = None\n",
        "                    return\n",
        "                \n",
        "                aux1 = aux\n",
        "                aux = aux.nref\n",
        "                return\n",
        "        \n",
        "        print(\"Item not found\")\n",
        "        return"
      ],
      "execution_count": 9,
      "outputs": []
    },
    {
      "cell_type": "code",
      "metadata": {
        "id": "1KZfcO8_Ex3I"
      },
      "source": [
        "def delete_at_start(self):\n",
        "        if self.start_node is None:\n",
        "            print(\"The list has no element to delete\")\n",
        "            return \n",
        "        if self.start_node.nref is None:\n",
        "            self.start_node = None\n",
        "            self.end_node = None\n",
        "            return\n",
        "        self.start_node = self.start_node.nref\n",
        "        self.start_node.pref = None"
      ],
      "execution_count": 10,
      "outputs": []
    },
    {
      "cell_type": "code",
      "metadata": {
        "id": "0Av_51lYE0ZA"
      },
      "source": [
        "def delete_at_end(self):\n",
        "        if self.start_node is None:\n",
        "            print(\"The list has no element to delete\")\n",
        "            return \n",
        "        if self.start_node.nref is None:\n",
        "            self.start_node = None\n",
        "            self.end_node = None\n",
        "            return\n",
        "        self.end_node = self.end_node.pref\n",
        "        self.end_node.nref = None"
      ],
      "execution_count": 11,
      "outputs": []
    },
    {
      "cell_type": "code",
      "metadata": {
        "id": "_7kEaiIrCv1x"
      },
      "source": [
        "def reverse_linked_list(self):\n",
        "        if self.start_node is None:\n",
        "            print(\"The list has no element to reverse\")\n",
        "            return \n",
        "        p = self.start_node\n",
        "        q = p.nref\n",
        "        p.nref = None\n",
        "        p.pref = q\n",
        "        while q is not None:\n",
        "            q.pref = q.nref\n",
        "            q.nref = p\n",
        "            p = q\n",
        "            q = q.pref\n",
        "        self.start_node = p"
      ],
      "execution_count": 12,
      "outputs": []
    },
    {
      "cell_type": "code",
      "metadata": {
        "id": "snMYAPJfDkm7"
      },
      "source": [
        "def traverse_list(self):\n",
        "        if self.start_node is None:\n",
        "            print(\"List has no element\")\n",
        "            return\n",
        "        else:\n",
        "            n = self.start_node\n",
        "            while n is not None:\n",
        "                print(n.item , \" \")\n",
        "                n = n.nref"
      ],
      "execution_count": 13,
      "outputs": []
    },
    {
      "cell_type": "markdown",
      "metadata": {
        "id": "5FjBGZ3uiDpq"
      },
      "source": [
        "## Clase nodo y D linked list"
      ]
    },
    {
      "cell_type": "code",
      "metadata": {
        "id": "UPd5-V3e1Vzf"
      },
      "source": [
        "class DoublyLinkedList:\n",
        "    def __init__(self):\n",
        "        self.start_node = None\n",
        "        self.end_node = None\n",
        "    # Métodos de la lista doblemente enlazada\n",
        "    insert_in_emptylist=insert_in_emptylist\n",
        "\n",
        "    insert_at_start=insert_at_start\n",
        "\n",
        "    insert_at_end=insert_at_end\n",
        "\n",
        "    insert_after_item=insert_after_item\n",
        "\n",
        "    insert_before_item=insert_before_item\n",
        "\n",
        "    delete_element_by_value=delete_element_by_value\n",
        "\n",
        "    delete_at_start=delete_at_start\n",
        "\n",
        "    delete_at_end=delete_at_end\n",
        "\n",
        "    reverse_linked_list=reverse_linked_list\n",
        "\n",
        "    traverse_list=traverse_list"
      ],
      "execution_count": 14,
      "outputs": []
    },
    {
      "cell_type": "code",
      "metadata": {
        "id": "YhrQXGuJ1OeZ"
      },
      "source": [
        "class Node:\n",
        "    def __init__(self, data):\n",
        "        self.item = data\n",
        "        self.nref = None\n",
        "        self.pref = None"
      ],
      "execution_count": 15,
      "outputs": []
    },
    {
      "cell_type": "markdown",
      "metadata": {
        "id": "H47ewXMdQVNz"
      },
      "source": [
        "## pruebas"
      ]
    },
    {
      "cell_type": "code",
      "metadata": {
        "id": "A71cQkpGQaQG"
      },
      "source": [
        "my_list= DoublyLinkedList()"
      ],
      "execution_count": 16,
      "outputs": []
    },
    {
      "cell_type": "code",
      "metadata": {
        "id": "xo4eqOf4Qklm",
        "outputId": "2d5519b8-f3e4-4fee-f198-3770922cb9ea",
        "colab": {
          "base_uri": "https://localhost:8080/",
          "height": 0
        }
      },
      "source": [
        "my_list.insert_at_start(1)\n",
        "my_list.insert_at_start(0)"
      ],
      "execution_count": 17,
      "outputs": [
        {
          "output_type": "stream",
          "text": [
            "node inserted\n"
          ],
          "name": "stdout"
        }
      ]
    },
    {
      "cell_type": "code",
      "metadata": {
        "id": "SNQVXOfzQ6jG"
      },
      "source": [
        "my_list.insert_at_end(2)\n",
        "my_list.insert_at_end(3)"
      ],
      "execution_count": 18,
      "outputs": []
    },
    {
      "cell_type": "code",
      "metadata": {
        "id": "lUoooPSrRLam"
      },
      "source": [
        "my_list.insert_before_item(2,5)"
      ],
      "execution_count": 19,
      "outputs": []
    },
    {
      "cell_type": "code",
      "metadata": {
        "id": "R_Wz1ss0QzgL",
        "outputId": "75d2de23-dd32-4b18-c164-3dbf4d79dd53",
        "colab": {
          "base_uri": "https://localhost:8080/",
          "height": 0
        }
      },
      "source": [
        "my_list.traverse_list()\n",
        "print(my_list.end_node.pref)"
      ],
      "execution_count": 20,
      "outputs": [
        {
          "output_type": "stream",
          "text": [
            "0  \n",
            "1  \n",
            "5  \n",
            "2  \n",
            "3  \n",
            "<__main__.Node object at 0x7fb7f04de3c8>\n"
          ],
          "name": "stdout"
        }
      ]
    },
    {
      "cell_type": "markdown",
      "metadata": {
        "id": "B2mvucrl4KtO"
      },
      "source": [
        "# Funciones de crear, borrar, mostrar canciones"
      ]
    },
    {
      "cell_type": "markdown",
      "metadata": {
        "id": "ClB5VQmBGsgd"
      },
      "source": [
        "## Usando arrays"
      ]
    },
    {
      "cell_type": "code",
      "metadata": {
        "id": "EQn02sWaFvrC"
      },
      "source": [
        "# Lista total de canciones:\n",
        "songs=[]\n",
        "# Lista de canciones favoritas:\n",
        "my_songs=[]"
      ],
      "execution_count": 21,
      "outputs": []
    },
    {
      "cell_type": "code",
      "metadata": {
        "id": "kSKFfCj5GLVV"
      },
      "source": [
        "# Función ingresar canción\n",
        "def new_song(songs_list,song):\n",
        "    songs_list.append(song)\n",
        "# Función ingresar canción manualmente\n",
        "def new_song_m():\n",
        "    print(\"Ingrese el nombre de la canción\")\n",
        "    name=input()\n",
        "    print(\"Ingrese el nombre del artista\")\n",
        "    artist=input()\n",
        "    print(\"Ingrese el genero de la canción\")\n",
        "    genre=input()\n",
        "    print(\"Ingrese el año de publicación de la canción\")\n",
        "    year=input()\n",
        "    # Guarda la canción en 'songs'\n",
        "    song_to_insert=[name,artist,genre,year]\n",
        "    new_song(songs,song_to_insert)\n",
        "    print('¿Desea guardarla en sus favoritas? (s/n)')\n",
        "    fav=input().lower()\n",
        "    # guarda o no en 'my_songs'\n",
        "    if fav==\"s\":\n",
        "        new_song(my_songs,song_to_insert)\n",
        "        print('La canción se agregó a general y favoritos')\n",
        "    else:\n",
        "        print('La canción solo se agregó a general')\n",
        "    "
      ],
      "execution_count": 22,
      "outputs": []
    },
    {
      "cell_type": "code",
      "metadata": {
        "id": "iZO79gLoSluf"
      },
      "source": [
        "# Función remover canción\n",
        "def remove_song(songs_list,song_name):\n",
        "    for i in range (len(songs_list)):\n",
        "        if song_name==songs_list[i][0]:    # name = nombre de canción\n",
        "            del songs_list[i]\n",
        "            break\n",
        "# Función remover canción manualmente\n",
        "def remove_song_m():\n",
        "    print(\"Ingrese el nombre de la canción a remover\")\n",
        "    name=input()\n",
        "    print('Remover canción solo de favoritos:1')\n",
        "    print('Remover canción totalmente:2')\n",
        "    cnd=input()\n",
        "    if cnd==\"1\":\n",
        "        remove_song(my_songs,name)\n",
        "        print('La canción '+name+' se eliminó de favoritos')\n",
        "    else:\n",
        "        remove_song(my_songs,name)\n",
        "        remove_song(songs,name)\n",
        "        print('La canción '+name+' solo se eliminó de general y favoritos')"
      ],
      "execution_count": 23,
      "outputs": []
    },
    {
      "cell_type": "code",
      "metadata": {
        "id": "NJXYZHXGzgpP"
      },
      "source": [
        "# Función mostrar datos de la canción por nombre\n",
        "def show_song(songs_list,song_name):\n",
        "    for i in range (len(songs_list)):\n",
        "        if song_name==songs_list[i][0]:    # name = nombre de canción\n",
        "            print(songs_list[i])\n",
        "            break\n",
        "# Función mostrar datos de la canción especificada manualmente\n",
        "def show_song_m():\n",
        "    print(\"Ingrese el nombre de la canción\")\n",
        "    name=input()\n",
        "    show_song(songs,name)"
      ],
      "execution_count": 24,
      "outputs": []
    },
    {
      "cell_type": "code",
      "metadata": {
        "id": "sFwj52X36Plg"
      },
      "source": [
        "# Mostrar todas las canciones\n",
        "for i in range(len(songs)):\n",
        "    print(songs[i])"
      ],
      "execution_count": 25,
      "outputs": []
    },
    {
      "cell_type": "code",
      "metadata": {
        "id": "1QQNoAYR1xZ2"
      },
      "source": [
        "# crear arrays con artista y género más repetido junto con su respectiva frecuencia\n",
        "genre_frec=[]\n",
        "\n",
        "artist_frec=[]"
      ],
      "execution_count": 26,
      "outputs": []
    },
    {
      "cell_type": "code",
      "metadata": {
        "id": "cvVgkHJqxhRF"
      },
      "source": [
        "# Función para identificar la frecuencia de un valor/atributo en la lista\n",
        "def value_frecuency(songs_list,n):\n",
        "    value_frec=[]\n",
        "    for song in songs_list:\n",
        "        new_value=True\n",
        "        for v in value_frec:\n",
        "            if song[n] == v[0]:\n",
        "                v[1]=str(int(v[1])+1)\n",
        "                new_value=False\n",
        "        if new_value:\n",
        "            value_frec.append([song[n],'1'])\n",
        "    return value_frec"
      ],
      "execution_count": 27,
      "outputs": []
    },
    {
      "cell_type": "code",
      "metadata": {
        "id": "19uDpoj68n0B"
      },
      "source": [
        "# Función para identificar el genero más repetido\n",
        "def favorite_genre(songs_list):\n",
        "    genre_frec=value_frecuency(songs_list,2)\n",
        "    max=0\n",
        "    fav_genre=''\n",
        "    for e in genre_frec:\n",
        "        if int(e[1])>max:\n",
        "            max=int(e[1])\n",
        "            fav_genre=e[0]\n",
        "    print(fav_genre)\n",
        "\n",
        "# Función para identificar el artista más repetido\n",
        "def favorite_artist(songs_list):\n",
        "    artist_frec=value_frecuency(songs_list,1)\n",
        "    max=0\n",
        "    fav_artist=''\n",
        "    for a in artist_frec:\n",
        "        if int(a[1])>max:\n",
        "            max=int(a[1])\n",
        "            fav_artist=a[0]\n",
        "    print(fav_artist)"
      ],
      "execution_count": 28,
      "outputs": []
    },
    {
      "cell_type": "markdown",
      "metadata": {
        "id": "zZNt-rSmsLnK"
      },
      "source": [
        "### Pruebas"
      ]
    },
    {
      "cell_type": "code",
      "metadata": {
        "id": "Mt1nGiFLNuNU"
      },
      "source": [
        "# Algunos valores para songs en arrays\n",
        "new_song(songs,['Borderline','Tame Impala','Pop','2020'])\n",
        "new_song(songs,['Is it true','Tame Impala','Pop','2020'])\n",
        "new_song(songs,['Blinding Lights','The Weeknd','Pop','2019'])\n",
        "new_song(songs,['Stressed Out','Twenty One Pilots','Rock','2015'])"
      ],
      "execution_count": 29,
      "outputs": []
    },
    {
      "cell_type": "code",
      "metadata": {
        "id": "TJDE1uHR0c0M"
      },
      "source": [
        "# Prueba mostrar muchas canciones\n",
        "#m=5000\n",
        "#song_name='generic_name'\n",
        "#for i in range(m):\n",
        "#   show_song(songs,song_name)\n"
      ],
      "execution_count": 30,
      "outputs": []
    },
    {
      "cell_type": "markdown",
      "metadata": {
        "id": "OPBiPRTSUsbu"
      },
      "source": [
        "## Usando doubly linked lists"
      ]
    },
    {
      "cell_type": "code",
      "metadata": {
        "id": "zo-NXla7UxR3"
      },
      "source": [
        "# Lista total de canciones:\n",
        "songs2=DoublyLinkedList()\n",
        "# Lista de canciones favoritas:\n",
        "my_songs2=DoublyLinkedList()"
      ],
      "execution_count": 31,
      "outputs": []
    },
    {
      "cell_type": "code",
      "metadata": {
        "id": "LeHP2ZVcYbeg"
      },
      "source": [
        "# Función ingresar canción\n",
        "def new_song2(songs_list,song):\n",
        "    songs_list.insert_at_start(song)\n",
        "# Función ingresar canción manualmente\n",
        "def new_song_m2():\n",
        "    print(\"Ingrese el nombre de la canción\")\n",
        "    name=input()\n",
        "    print(\"Ingrese el nombre del artista\")\n",
        "    artist=input()\n",
        "    print(\"Ingrese el genero de la canción\")\n",
        "    genre=input()\n",
        "    print(\"Ingrese el año de publicación de la canción\")\n",
        "    year=input()\n",
        "    # Guarda la canción en 'songs2'\n",
        "    song_to_insert=[name,artist,genre,year]\n",
        "    new_song2(songs2,song_to_insert)\n",
        "    print('¿Desea guardarla en sus favoritas? (s/n)')\n",
        "    fav=input().lower()\n",
        "    # guarda o no en 'my_songs'\n",
        "    if fav==\"s\":\n",
        "        new_song2(my_songs2,song_to_insert)\n",
        "        print('La canción se agregó a general y favoritos')\n",
        "    else:\n",
        "        print('La canción solo se agregó a general')"
      ],
      "execution_count": 32,
      "outputs": []
    },
    {
      "cell_type": "code",
      "metadata": {
        "id": "4weS_rA1Z04l"
      },
      "source": [
        "# Función remover canción\n",
        "def remove_song2(songs_list,song_name):\n",
        "    node = songs_list.start_node\n",
        "    while node is not None:\n",
        "        if node.item[0].lower()==song_name:\n",
        "            songs_list.delete_element_by_value(node.item)\n",
        "            break\n",
        "        node = node.nref\n",
        "    if node is None:\n",
        "        print(\"No se encontró la canción \"+song_name)\n",
        "# Función remover canción manualmente\n",
        "def remove_song_m2():\n",
        "    print(\"Ingrese el nombre de la canción a remover\")\n",
        "    name=input()\n",
        "    print('Remover canción solo de favoritos:1')\n",
        "    print('Remover canción totalmente:2')\n",
        "    cnd=input()\n",
        "    if cnd==\"1\":\n",
        "        remove_song2(my_songs2,name)\n",
        "        print('La canción '+name+' se eliminó de favoritos')\n",
        "    else:\n",
        "        remove_song2(my_songs2,name)\n",
        "        remove_song2(songs2,name)\n",
        "        print('La canción '+name+' solo se eliminó de general y favoritos')"
      ],
      "execution_count": 33,
      "outputs": []
    },
    {
      "cell_type": "code",
      "metadata": {
        "id": "ZHAfVZtlezNX"
      },
      "source": [
        "# Función mostrar datos de la canción por nombre\n",
        "def show_song2(songs_list,song_name):\n",
        "    node = songs_list.start_node\n",
        "    while node is not None:\n",
        "        if node.item[0].lower()==song_name:\n",
        "            print(node.item)\n",
        "            break\n",
        "        node = node.nref\n",
        "    if node is None:\n",
        "        print(\"No se encontró la canción \"+song_name)\n",
        "# Función mostrar datos de la canción especificada manualmente\n",
        "def show_song_m2():\n",
        "    print(\"Ingrese el nombre de la canción\")\n",
        "    name=input()\n",
        "    show_song2(songs,name)"
      ],
      "execution_count": 34,
      "outputs": []
    },
    {
      "cell_type": "code",
      "metadata": {
        "id": "XBAz9lIosBFJ"
      },
      "source": [
        "# Función para identificar la frecuencia de un valor/atributo en la lista\n",
        "def value_frecuency2(songs_list,n):\n",
        "    value_frec=[]\n",
        "    aux_node = songs_list.start_node\n",
        "\n",
        "    while aux_node is not None:\n",
        "        new_value=True\n",
        "        for v in value_frec:\n",
        "            if aux_node.item[n] == v[0]:\n",
        "                v[1]=str(int(v[1])+1)\n",
        "                new_value=False\n",
        "        if new_value:\n",
        "            value_frec.append([aux_node.item[n],'1'])\n",
        "        aux_node = aux_node.nref\n",
        "    return value_frec\n",
        "# Función para identificar el genero más repetido\n",
        "def favorite_genre2(songs_list):\n",
        "    genre_frec=value_frecuency2(songs_list,2)\n",
        "    max=0\n",
        "    fav_genre=''\n",
        "    for e in genre_frec:\n",
        "        if int(e[1])>max:\n",
        "            max=int(e[1])\n",
        "            fav_genre=e[0]\n",
        "    print(fav_genre)\n",
        "\n",
        "# crear listas con artista y género más repetido junto con su respectiva frecuencia\n",
        "def favorite_artist2(songs_list):\n",
        "    artist_frec=value_frecuency2(songs_list,1)\n",
        "    max=0\n",
        "    fav_artist=''\n",
        "    for a in artist_frec:\n",
        "        if int(a[1])>max:\n",
        "            max=int(a[1])\n",
        "            fav_artist=a[0]\n",
        "    print(fav_artist)"
      ],
      "execution_count": 35,
      "outputs": []
    },
    {
      "cell_type": "markdown",
      "metadata": {
        "id": "3LOyriRws9tx"
      },
      "source": [
        "### Pruebas"
      ]
    },
    {
      "cell_type": "code",
      "metadata": {
        "id": "7pU1_JUUb3n2",
        "outputId": "afcfca72-5eae-46ec-cc95-bdb1f8cc47ef",
        "colab": {
          "base_uri": "https://localhost:8080/",
          "height": 0
        }
      },
      "source": [
        "# Algunos valores para songs en Dlinkedlists\n",
        "new_song2(songs2,['Borderline','Tame Impala','Pop','2020'])\n",
        "new_song2(songs2,['Is it true','Tame Impala','Pop','2020'])\n",
        "new_song2(songs2,['Blinding Lights','The Weeknd','Pop','2019'])\n",
        "new_song2(songs2,['Stressed Out','Twenty One Pilots','Rock','2015'])"
      ],
      "execution_count": 36,
      "outputs": [
        {
          "output_type": "stream",
          "text": [
            "node inserted\n"
          ],
          "name": "stdout"
        }
      ]
    },
    {
      "cell_type": "code",
      "metadata": {
        "id": "bVnqc9YjfJfd",
        "outputId": "aff67db2-2b23-4b3b-fb91-76767b03c165",
        "colab": {
          "base_uri": "https://localhost:8080/",
          "height": 0
        }
      },
      "source": [
        "show_song2(songs2,'is it true')"
      ],
      "execution_count": 37,
      "outputs": [
        {
          "output_type": "stream",
          "text": [
            "['Is it true', 'Tame Impala', 'Pop', '2020']\n"
          ],
          "name": "stdout"
        }
      ]
    },
    {
      "cell_type": "code",
      "metadata": {
        "id": "NULoXA0EczNO"
      },
      "source": [
        "#songs2.traverse_list()"
      ],
      "execution_count": 38,
      "outputs": []
    },
    {
      "cell_type": "code",
      "metadata": {
        "id": "L6GB6PtHr1tg",
        "outputId": "618fa0a0-3585-4b70-dbe7-2291dd212f93",
        "colab": {
          "base_uri": "https://localhost:8080/",
          "height": 0
        }
      },
      "source": [
        "# Prueba mostrar muchas canciones\n",
        "'''m=5000\n",
        "song_name='generic_name'\n",
        "for i in range(m):\n",
        "    show_song2(songs2,song_name)'''"
      ],
      "execution_count": 39,
      "outputs": [
        {
          "output_type": "execute_result",
          "data": {
            "application/vnd.google.colaboratory.intrinsic+json": {
              "type": "string"
            },
            "text/plain": [
              "\"m=5000\\nsong_name='generic_name'\\nfor i in range(m):\\n    show_song2(songs2,song_name)\""
            ]
          },
          "metadata": {
            "tags": []
          },
          "execution_count": 39
        }
      ]
    },
    {
      "cell_type": "markdown",
      "metadata": {
        "id": "AgLcuphibOEt"
      },
      "source": [
        "# Pruebas de tiempo"
      ]
    },
    {
      "cell_type": "code",
      "metadata": {
        "id": "dUpO-sSJgWNI"
      },
      "source": [
        "import time\n",
        "# número de datos\n",
        "#n=10000\n",
        "#n=100000\n",
        "n=1000000\n",
        "#n=10000000\n",
        "#n=100000000"
      ],
      "execution_count": 47,
      "outputs": []
    },
    {
      "cell_type": "markdown",
      "metadata": {
        "id": "UVaKtZAbbFqg"
      },
      "source": [
        "## PRUEBAS DE TIEMPO arrays"
      ]
    },
    {
      "cell_type": "code",
      "metadata": {
        "id": "uy9NmTYEg3mc",
        "outputId": "fe685411-d4b2-45a0-c54f-765bde2d2a89",
        "colab": {
          "base_uri": "https://localhost:8080/",
          "height": 34
        }
      },
      "source": [
        "# prueba de crear muchas canciones\n",
        "song_test=['generic_name','some_artist','some_genre','some_year']\n",
        "\n",
        "start_time=time.time()\n",
        "for i in range(n):\n",
        "    new_song(songs,song_test)\n",
        "end_time=time.time()\n",
        "\n",
        "print(\"Tiempo de ejecucion inserción array para \"+str(n)+\" datos: \"+\"--- %s seconds ---\" % (end_time - start_time))\n"
      ],
      "execution_count": 48,
      "outputs": [
        {
          "output_type": "stream",
          "text": [
            "Tiempo de ejecucion inserción array para 1000000 datos: --- 0.2133781909942627 seconds ---\n"
          ],
          "name": "stdout"
        }
      ]
    },
    {
      "cell_type": "code",
      "metadata": {
        "id": "NoWb52Hk6s-e",
        "outputId": "1b0e182a-5d99-49c4-c2c5-b5c169d927e6",
        "colab": {
          "base_uri": "https://localhost:8080/",
          "height": 85
        }
      },
      "source": [
        "# Prueba de genero más repetido\n",
        "start_time=time.time()\n",
        "favorite_genre(songs)\n",
        "end_time=time.time()\n",
        "print(\"Tiempo de ejecucion genero favorito array para \"+str(n)+\" datos: \"+\"--- %s seconds ---\" % (end_time - start_time))\n",
        "\n",
        "# Prueba de artista más repetido\n",
        "start_time=time.time()\n",
        "favorite_artist(songs)\n",
        "end_time=time.time()\n",
        "\n",
        "print(\"Tiempo de ejecucion artista favorito array para \"+str(n)+\" datos: \"+\"--- %s seconds ---\" % (end_time - start_time))\n"
      ],
      "execution_count": 49,
      "outputs": [
        {
          "output_type": "stream",
          "text": [
            "some_genre\n",
            "Tiempo de ejecucion genero favorito array para 1000000 datos: --- 0.6143677234649658 seconds ---\n",
            "some_artist\n",
            "Tiempo de ejecucion artista favorito array para 1000000 datos: --- 0.6833608150482178 seconds ---\n"
          ],
          "name": "stdout"
        }
      ]
    },
    {
      "cell_type": "code",
      "metadata": {
        "id": "Vox2S4KDkc58",
        "outputId": "5bf8b68e-7acc-472f-c0fd-05513ad30498",
        "colab": {
          "base_uri": "https://localhost:8080/",
          "height": 34
        }
      },
      "source": [
        "# Prueba eliminar muchas canciones\n",
        "song_name='generic_name'\n",
        "\n",
        "start_time=time.time()\n",
        "for i in range(n):\n",
        "    remove_song(songs,song_name)\n",
        "end_time=time.time()\n",
        "\n",
        "print(\"Tiempo de ejecucion eliminación array para \"+str(n)+\" datos: \"+\"--- %s seconds ---\" % (end_time - start_time))\n"
      ],
      "execution_count": 50,
      "outputs": [
        {
          "output_type": "stream",
          "text": [
            "Tiempo de ejecucion eliminación array para 1000000 datos: --- 190.3478765487671 seconds ---\n"
          ],
          "name": "stdout"
        }
      ]
    },
    {
      "cell_type": "markdown",
      "metadata": {
        "id": "I6Eqt3_Fa7PA"
      },
      "source": [
        "## PRUEBAS DE TIEMPO linked list"
      ]
    },
    {
      "cell_type": "code",
      "metadata": {
        "id": "j-ZZvpbprON-",
        "outputId": "2f10b93b-145a-4aef-b3a1-b797848c79c9",
        "colab": {
          "base_uri": "https://localhost:8080/",
          "height": 34
        }
      },
      "source": [
        "# Prueba de crear muchas canciones\n",
        "song_test=['generic_name','some_artist','some_genre','some_year']\n",
        "\n",
        "start_time=time.time()\n",
        "for i in range(n):\n",
        "    new_song2(songs2,song_test)\n",
        "end_time=time.time()\n",
        "print(\"Tiempo de ejecucion inserción DLinkedList para \"+str(n)+\" datos: \"+\"--- %s seconds ---\" % (end_time - start_time))"
      ],
      "execution_count": 51,
      "outputs": [
        {
          "output_type": "stream",
          "text": [
            "Tiempo de ejecucion inserción DLinkedList para 1000000 datos: --- 1.957716941833496 seconds ---\n"
          ],
          "name": "stdout"
        }
      ]
    },
    {
      "cell_type": "code",
      "metadata": {
        "id": "QbcmuLQ2L2AV",
        "outputId": "1c552ff8-dc29-41f5-de93-8d4ba938c3e8",
        "colab": {
          "base_uri": "https://localhost:8080/",
          "height": 85
        }
      },
      "source": [
        "# Prueba de genero más repetido\n",
        "start_time=time.time()\n",
        "favorite_genre2(songs2)\n",
        "end_time=time.time()\n",
        "print(\"Tiempo de ejecucion genero favorito DLinkedList para \"+str(n)+\" datos: \"+\"--- %s seconds ---\" % (end_time - start_time))\n",
        "\n",
        "# Prueba de artista más repetido\n",
        "start_time=time.time()\n",
        "favorite_artist2(songs2)\n",
        "end_time=time.time()\n",
        "\n",
        "print(\"Tiempo de ejecucion artista favorito DLinkedListLL para \"+str(n)+\" datos: \"+\"--- %s seconds ---\" % (end_time - start_time))"
      ],
      "execution_count": 52,
      "outputs": [
        {
          "output_type": "stream",
          "text": [
            "some_genre\n",
            "Tiempo de ejecucion genero favorito DLinkedList para 1000000 datos: --- 0.5920517444610596 seconds ---\n",
            "some_artist\n",
            "Tiempo de ejecucion artista favorito DLinkedListLL para 1000000 datos: --- 0.580725908279419 seconds ---\n"
          ],
          "name": "stdout"
        }
      ]
    },
    {
      "cell_type": "code",
      "metadata": {
        "id": "_k1ndgEyrgpt",
        "outputId": "01ccd931-5de3-4206-e444-f6af8949583a",
        "colab": {
          "base_uri": "https://localhost:8080/",
          "height": 34
        }
      },
      "source": [
        "# Prueba eliminar muchas canciones\n",
        "song_name='generic_name'\n",
        "\n",
        "start_time=time.time()\n",
        "for i in range(n):\n",
        "    remove_song2(songs2,song_name)\n",
        "end_time=time.time()\n",
        "print(\"Tiempo de ejecucion elminación DLinkedList para \"+str(n)+\" datos: \"+\"--- %s seconds ---\" % (end_time- start_time))\n"
      ],
      "execution_count": 53,
      "outputs": [
        {
          "output_type": "stream",
          "text": [
            "Tiempo de ejecucion elminación DLinkedList para 1000000 datos: --- 1.1038804054260254 seconds ---\n"
          ],
          "name": "stdout"
        }
      ]
    }
  ]
}